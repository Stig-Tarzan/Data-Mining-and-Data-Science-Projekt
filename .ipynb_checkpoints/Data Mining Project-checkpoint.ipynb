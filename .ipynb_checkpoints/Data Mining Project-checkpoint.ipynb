{
 "cells": [
  {
   "cell_type": "markdown",
   "metadata": {},
   "source": [
    "**This template is provided as a guide to your Jupyter notebook report. You should edit all sections as you see fit. Don't forget to replace the title too!**"
   ]
  },
  {
   "cell_type": "markdown",
   "metadata": {},
   "source": [
    "# Your Data Mining Pilot Study and Plan"
   ]
  },
  {
   "cell_type": "markdown",
   "metadata": {},
   "source": [
    "## Background\n",
    "\n",
    "The New York Times is one of the world’s most circulated newspapers with a history dating back to 1851. A lot has changed in society during the 150 plus year history of The Times, but few things have gained as much attention as the portrayal of women in media. Ever since the recent gender equality discussion (Carlsen, A., Salam, M., Miller, C.C., Lu, D. Ngu, A. Patel, J.K., & Wichter, Z., 2018) change seems to have sped up. It's become increasingly important for newspapers to be mindful of the way they represent women, in order to stay relevant and, perhaps most importantly, not suffer backlash resulting in damage to their image and credibility."
   ]
  },
  {
   "cell_type": "markdown",
   "metadata": {},
   "source": [
    "## Problem description\n",
    "\n",
    "With the recent surge in coverage of media and its treatment of women, the New York Times is interested in looking at the optics of their own publications as it relates to gender. Looking back through history, they are interested in their difference in coverage of male and female subjects, as well as how this relates to the gender of the author.\n",
    "Our first inquiry relates to how journalists affect the content and coverage that they deliver. According to a study by Armstrong, “the gender of the newswriter can be linked to gender portrayals within news stories.” (Armstrong, C.L., 2008) It suggests that the gender of selected sources and individuals that get covered is related to that of the journalist. Looking at NYT’s publications, we will examine if such a correlation can be found and how this might affect hiring decisions in the future.\n",
    "Our second question pertains to the representation of women subjects in articles and other news items. According to Collins, Rebecca L. (Sex Roles; New York Vol. 64, Iss. 3-4) women are under-represented across a range of media and settings, including newspapers. Secondly when they are portrayed it is often in a negative manner. We want to research how the representation of women, in articles published by New York Times, has changed over the last 150 years. By doing so we can help NYT understand where they stand right now as it relates to gender representation, and how they have progressed over the years."
   ]
  },
  {
   "cell_type": "markdown",
   "metadata": {},
   "source": [
    "## Data collection\n",
    "\n",
    "*Document your data collection process and the properties of the data here. Implement, using Python code, to load and preprocess your selected dataset.*\n",
    "\n",
    "*Replace the contents of this cell with your own text.*"
   ]
  },
  {
   "cell_type": "code",
   "execution_count": 4,
   "metadata": {},
   "outputs": [
    {
     "ename": "ModuleNotFoundError",
     "evalue": "No module named 'textmining'",
     "output_type": "error",
     "traceback": [
      "\u001b[1;31m---------------------------------------------------------------------------\u001b[0m",
      "\u001b[1;31mModuleNotFoundError\u001b[0m                       Traceback (most recent call last)",
      "\u001b[1;32m<ipython-input-4-0aa97628c162>\u001b[0m in \u001b[0;36m<module>\u001b[1;34m()\u001b[0m\n\u001b[0;32m      1\u001b[0m \u001b[1;32mimport\u001b[0m \u001b[0mpandas\u001b[0m \u001b[1;32mas\u001b[0m \u001b[0mpd\u001b[0m\u001b[1;33m\u001b[0m\u001b[0m\n\u001b[1;32m----> 2\u001b[1;33m \u001b[1;32mimport\u001b[0m \u001b[0mtextmining\u001b[0m \u001b[1;32mas\u001b[0m \u001b[0mtm\u001b[0m\u001b[1;33m\u001b[0m\u001b[0m\n\u001b[0m\u001b[0;32m      3\u001b[0m \u001b[1;32mimport\u001b[0m \u001b[0mwordcloud\u001b[0m\u001b[1;33m\u001b[0m\u001b[0m\n\u001b[0;32m      4\u001b[0m \u001b[1;32mimport\u001b[0m \u001b[0mmatplotlib\u001b[0m\u001b[1;33m\u001b[0m\u001b[0m\n\u001b[0;32m      5\u001b[0m \u001b[1;32mimport\u001b[0m \u001b[0mjson\u001b[0m\u001b[1;33m\u001b[0m\u001b[0m\n",
      "\u001b[1;31mModuleNotFoundError\u001b[0m: No module named 'textmining'"
     ]
    }
   ],
   "source": [
    "import pandas as pd\n",
    "import textmining as tm\n",
    "import wordcloud\n",
    "import matplotlib\n",
    "import json\n",
    "from sklearn.feature_extraction.text import CountVectorizer\n",
    "%matplotlib inline\n",
    "matplotlib.pyplot.rcParams['figure.figsize'] = [10, 6]"
   ]
  },
  {
   "cell_type": "markdown",
   "metadata": {},
   "source": [
    "## Data analysis\n",
    "\n",
    "*Document you choice and motivation for selected data mining method(s) here. Choose a data mining method(s) to use in Python code to perform an analysis of your chosen dataset. Describe why you chose the method(s) and what interesting things you have found from the analysis.*\n",
    "\n",
    "*Replace the contents of this cell with your own text.*"
   ]
  },
  {
   "cell_type": "code",
   "execution_count": 3,
   "metadata": {},
   "outputs": [],
   "source": [
    "# Add your own code"
   ]
  },
  {
   "cell_type": "markdown",
   "metadata": {},
   "source": [
    "## Evaluation of results\n",
    "\n",
    "*Document an evaluation your analysis results and describe how potentially actionable they are.*\n",
    "\n",
    "*Replace the contents of this cell with your own text.*"
   ]
  },
  {
   "cell_type": "code",
   "execution_count": null,
   "metadata": {},
   "outputs": [],
   "source": [
    "# Add your own code"
   ]
  },
  {
   "cell_type": "markdown",
   "metadata": {},
   "source": [
    "## Schedule and description of project plan\n",
    "\n",
    "*Rough schedule for the project beyond the pilot study presented in 3-5. This does not have to be advanced, you can simply provide an estimate based upon reported schedules for similar projects in the literature.*\n",
    "\n",
    "*Replace the contents of this cell with your own text.*"
   ]
  },
  {
   "cell_type": "markdown",
   "metadata": {},
   "source": [
    "## Ethical aspects that need to be considered\n",
    "\n",
    "*Are there ethical aspects that need to be considered? Are there legal implications (e.g., personal data / GDPR)? Are there implications if the case organization is a business, public authority, or nonprofit entity?*\n",
    "\n",
    "*Replace the contents of this cell with your own text.*"
   ]
  },
  {
   "cell_type": "markdown",
   "metadata": {},
   "source": [
    "## References\n",
    "\n",
    "Armstrong, C. L. (2004) ‘The Influence of Reporter Gender on Source Selection in Newspaper Stories’, Journalism & Mass Communication Quarterly, 81(1), pp. 139–154. Available at: https://search-ebscohost-com.ezproxy.its.uu.se/login.aspx?direct=true&db=eue&AN=507903756&site=ehost-live (Accessed: 13 November 2018).\n",
    "\n",
    "Carlsen, A., Salam, M., Miller, C.C., Lu, D. Ngu, A. Patel, J.K., & Wichter, Z. (2018) ‘#MeToo Brought Down 201 Powerful Men. Nearly Half of Their Replacements Are Women.’ The New York Times, updated 19th Oct [Online]. Available: https://www.nytimes.com/interactive/2018/10/23/us/metoo-replacements.html (Accessed on 2018-11-12)\n",
    "\n",
    "Collins, R. L. (2011). Content analysis of gender roles in media: Where are we now and where should we go? Sex Roles, 64(3-4), 290-298. doi:http://dx.doi.org.ezproxy.its.uu.se/10.1007/s11199-010-9929-5"
   ]
  },
  {
   "cell_type": "code",
   "execution_count": null,
   "metadata": {},
   "outputs": [],
   "source": []
  }
 ],
 "metadata": {
  "kernelspec": {
   "display_name": "Python 3",
   "language": "python",
   "name": "python3"
  },
  "language_info": {
   "codemirror_mode": {
    "name": "ipython",
    "version": 3
   },
   "file_extension": ".py",
   "mimetype": "text/x-python",
   "name": "python",
   "nbconvert_exporter": "python",
   "pygments_lexer": "ipython3",
   "version": "3.7.0"
  }
 },
 "nbformat": 4,
 "nbformat_minor": 2
}
